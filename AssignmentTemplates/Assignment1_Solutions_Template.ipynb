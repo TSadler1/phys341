{
  "nbformat": 4,
  "nbformat_minor": 0,
  "metadata": {
    "kernelspec": {
      "display_name": "Python 3",
      "language": "python",
      "name": "python3"
    },
    "language_info": {
      "codemirror_mode": {
        "name": "ipython",
        "version": 3
      },
      "file_extension": ".py",
      "mimetype": "text/x-python",
      "name": "python",
      "nbconvert_exporter": "python",
      "pygments_lexer": "ipython3",
      "version": "3.6.8"
    },
    "colab": {
      "name": "Assignment1_Solutions_Template.ipynb",
      "provenance": []
    }
  },
  "cells": [
    {
      "cell_type": "markdown",
      "metadata": {
        "id": "KyWObXWeNH-j",
        "colab_type": "text"
      },
      "source": [
        "# Assignment 1 Solutions"
      ]
    },
    {
      "cell_type": "code",
      "metadata": {
        "id": "VqjG2IXWNH-n",
        "colab_type": "code",
        "colab": {}
      },
      "source": [
        "# Import the required packages, \n",
        "# with their conventional names \n",
        "import matplotlib.pyplot as plt \n",
        "import numpy as np \n",
        "import scipy.stats as stats"
      ],
      "execution_count": 2,
      "outputs": []
    },
    {
      "cell_type": "markdown",
      "metadata": {
        "id": "9sRgyTeBNH_C",
        "colab_type": "text"
      },
      "source": [
        "# Question 1:  \n",
        "\n",
        "A cat is launched from the top of the Trible library with zero initial velocity, and lands, unharmed, on the ground below time later. The height of the Trible library is measured to be (21.2 +/- 0.4) m. The time is measured to be (2.04 +/- 0.05) s.\n",
        "\n",
        "(a) What is the measured value of the acceleration due to gravity, ignoring air resistance?\n",
        "\n",
        "(b) Assuming that the uncertainties quoted above follow a uniform error distribution, what is the measured uncertainty in the acceleration due to gravity?\n",
        "\n",
        "(c) Assuming that the uncertainties quoted above follow a Gaussian error distribution, what is the measured uncertainty in the acceleration due to gravity?"
      ]
    },
    {
      "cell_type": "code",
      "metadata": {
        "id": "e0oiRy_PNH_F",
        "colab_type": "code",
        "colab": {}
      },
      "source": [
        ""
      ],
      "execution_count": null,
      "outputs": []
    },
    {
      "cell_type": "code",
      "metadata": {
        "id": "-TWl14SbNH_f",
        "colab_type": "code",
        "colab": {}
      },
      "source": [
        ""
      ],
      "execution_count": null,
      "outputs": []
    },
    {
      "cell_type": "code",
      "metadata": {
        "id": "CmGdUQ2lNH_z",
        "colab_type": "code",
        "colab": {}
      },
      "source": [
        ""
      ],
      "execution_count": null,
      "outputs": []
    },
    {
      "cell_type": "code",
      "metadata": {
        "id": "khVS22f-NIAJ",
        "colab_type": "code",
        "colab": {}
      },
      "source": [
        ""
      ],
      "execution_count": null,
      "outputs": []
    },
    {
      "cell_type": "markdown",
      "metadata": {
        "id": "ljrevOqONIAc",
        "colab_type": "text"
      },
      "source": [
        "# Question 2: \n",
        "\n",
        "Airlines sometimes overbook flights. Suppose that for a plane with 50 seats, 55 passengers have tickets. Define the random variable Y as the number of ticketed passengers who actually show up for the flight. The probability mass function of Y appears in the accompanying table.\n",
        "\n",
        "(a) What is the probability that the flight will accommodate all ticketed passengers who show up?\n",
        "\n",
        "(b) What is the probability that not all ticketed passengers who show up can be accommodated?\n",
        "\n",
        "(c) If you are the first person on the standby list (which means you will be the first one to get on the plane if there are any seats available after all ticketed passengers have been accommodated), what is the probability that you will be able to take the flight? \n",
        "\n",
        "What is this probability if you are the third person on the standby list?"
      ]
    },
    {
      "cell_type": "code",
      "metadata": {
        "id": "-XUhYKl8NIAg",
        "colab_type": "code",
        "colab": {}
      },
      "source": [
        ""
      ],
      "execution_count": null,
      "outputs": []
    },
    {
      "cell_type": "code",
      "metadata": {
        "id": "xE9aNhAxNIAx",
        "colab_type": "code",
        "colab": {}
      },
      "source": [
        ""
      ],
      "execution_count": null,
      "outputs": []
    },
    {
      "cell_type": "code",
      "metadata": {
        "id": "KXPsH3bHNIBE",
        "colab_type": "code",
        "colab": {}
      },
      "source": [
        ""
      ],
      "execution_count": null,
      "outputs": []
    },
    {
      "cell_type": "code",
      "metadata": {
        "id": "IhXO86ZoNIBO",
        "colab_type": "code",
        "colab": {}
      },
      "source": [
        ""
      ],
      "execution_count": null,
      "outputs": []
    },
    {
      "cell_type": "markdown",
      "metadata": {
        "id": "KXJvP8g8NIBV",
        "colab_type": "text"
      },
      "source": [
        "# Question 3: \n",
        "\n",
        "A mail-order company business has six telephone lines. Let X denote the number of lines in use at a specified time. Suppose the pmf of X is as given in the accompanying table.\n",
        "\n",
        "\n",
        "Calculate the probability of each of the following events.\n",
        "\n",
        "(a) {at most three lines are in use}\n",
        "\n",
        "(b) {fewer than three lines are in use}\n",
        "\n",
        "(c) {at least three lines are in use}\n",
        "\n",
        "(d) {between two and five lines, inclusive, are in use}\n",
        "\n",
        "(e) {between two and four lines, inclusive, are not in use}\n",
        "\n",
        "(f) {at least four lines are not in use}"
      ]
    },
    {
      "cell_type": "code",
      "metadata": {
        "id": "hXXMkZisNIBW",
        "colab_type": "code",
        "colab": {}
      },
      "source": [
        ""
      ],
      "execution_count": null,
      "outputs": []
    },
    {
      "cell_type": "code",
      "metadata": {
        "id": "t82ipCOJNIBb",
        "colab_type": "code",
        "colab": {}
      },
      "source": [
        ""
      ],
      "execution_count": null,
      "outputs": []
    },
    {
      "cell_type": "markdown",
      "metadata": {
        "id": "SVryK9OXNIBg",
        "colab_type": "text"
      },
      "source": [
        "# Question 4: \n",
        "\n",
        "Compute the following binomial probabilities directly from the formula for b(x; n, p).\n",
        "\n",
        "(a) b(3; 5, 0.48)\n",
        "\n",
        "(b) b(2; 7, 0.77)\n",
        "\n",
        "(c) P(3 <= X <= 5) when n = 9 and p = 0.76\n",
        "\n",
        "(d) P(1 <= X) when n = 12 and p = 0.14"
      ]
    },
    {
      "cell_type": "code",
      "metadata": {
        "id": "S-G-g6xsNIBh",
        "colab_type": "code",
        "colab": {
          "base_uri": "https://localhost:8080/",
          "height": 34
        },
        "outputId": "aaa1745b-a715-4da9-bc00-32409c8482a4"
      },
      "source": [
        "# Import the required packages, \n",
        "# with their conventional names \n",
        "import matplotlib.pyplot as plt \n",
        "import numpy as np \n",
        "import scipy.stats as stats\n",
        "k = 1\n",
        "n = 6\n",
        "p = 0.44\n",
        "\n",
        "answer = stats.binom.pmf(k, n, p)\n",
        "print(answer)"
      ],
      "execution_count": 6,
      "outputs": [
        {
          "output_type": "stream",
          "text": [
            "0.14539318886400002\n"
          ],
          "name": "stdout"
        }
      ]
    },
    {
      "cell_type": "code",
      "metadata": {
        "id": "IqhC-npmNIBm",
        "colab_type": "code",
        "colab": {
          "base_uri": "https://localhost:8080/",
          "height": 34
        },
        "outputId": "0fcbdc6b-3343-4669-fd8f-ffa2064237db"
      },
      "source": [
        "# Import the required packages, \n",
        "# with their conventional names \n",
        "import matplotlib.pyplot as plt \n",
        "import numpy as np \n",
        "import scipy.stats as stats\n",
        "k = 2\n",
        "n = 6\n",
        "p = 0.77\n",
        "\n",
        "answer = stats.binom.pmf(k, n, p)\n",
        "print(answer)"
      ],
      "execution_count": 7,
      "outputs": [
        {
          "output_type": "stream",
          "text": [
            "0.024887659335000003\n"
          ],
          "name": "stdout"
        }
      ]
    },
    {
      "cell_type": "code",
      "metadata": {
        "id": "Tf9DhLqRNIBr",
        "colab_type": "code",
        "colab": {
          "base_uri": "https://localhost:8080/",
          "height": 34
        },
        "outputId": "62705211-aad8-427a-a767-e354416dd91b"
      },
      "source": [
        "# Import the required packages, \n",
        "# with their conventional names \n",
        "import matplotlib.pyplot as plt \n",
        "import numpy as np \n",
        "import scipy.stats as stats\n",
        "k = 5\n",
        "n = 8\n",
        "p = 0.71\n",
        "\n",
        "answer1 = stats.binom.cdf(k, n, p)\n",
        "\n",
        "k = 3-1 #lowest value minus 1\n",
        "\n",
        "answer2 = stats.binom.cdf(k, n, p)\n",
        "print(answer1 - answer2)"
      ],
      "execution_count": 9,
      "outputs": [
        {
          "output_type": "stream",
          "text": [
            "0.41334168079668376\n"
          ],
          "name": "stdout"
        }
      ]
    },
    {
      "cell_type": "code",
      "metadata": {
        "id": "ifd96J-QNIBu",
        "colab_type": "code",
        "colab": {
          "base_uri": "https://localhost:8080/",
          "height": 34
        },
        "outputId": "38db0027-e88e-4269-fc86-95576d5d158b"
      },
      "source": [
        "# Import the required packages, \n",
        "# with their conventional names \n",
        "import matplotlib.pyplot as plt \n",
        "import numpy as np \n",
        "import scipy.stats as stats\n",
        "k = 1-1 #lowest value minus 1\n",
        "n = 8\n",
        "p = 0.14\n",
        "\n",
        "answer = stats.binom.cdf(k, n, p)\n",
        "\n",
        "print(1 - answer) #the rest of the values exluding the bottom"
      ],
      "execution_count": 10,
      "outputs": [
        {
          "output_type": "stream",
          "text": [
            "0.7007820728934144\n"
          ],
          "name": "stdout"
        }
      ]
    },
    {
      "cell_type": "code",
      "metadata": {
        "id": "Z2Jj8je1NIBw",
        "colab_type": "code",
        "colab": {}
      },
      "source": [
        ""
      ],
      "execution_count": null,
      "outputs": []
    },
    {
      "cell_type": "markdown",
      "metadata": {
        "id": "3PL51hGkNIBz",
        "colab_type": "text"
      },
      "source": [
        "# Question 5:\n",
        "\n",
        "When circuit boards used in the manufacture of compact disc players are tested, the long-run percentage of defectives is 10%. Let X = the number of defective boards in a random sample of size n = 25, so X ~ Bin(25, 0.10).\n",
        "\n",
        "(a) Determine P(X <= 2).\n",
        "\n",
        "(b) Determine P(X >= 5).\n",
        "\n",
        "(c) Determine P(1 <= X <= 4).\n",
        "\n",
        "(d) What is the probability that none of the 25 boards is defective?\n",
        "\n",
        "(e) Calculate the expected value and standard deviation of X."
      ]
    },
    {
      "cell_type": "code",
      "metadata": {
        "id": "HRIiR1vpNIB0",
        "colab_type": "code",
        "colab": {
          "base_uri": "https://localhost:8080/",
          "height": 34
        },
        "outputId": "d88d9e7c-9b70-4900-e2a5-1df6ce22caad"
      },
      "source": [
        "# Import the required packages, \n",
        "# with their conventional names \n",
        "import matplotlib.pyplot as plt \n",
        "import numpy as np \n",
        "import scipy.stats as stats\n",
        "k = 2 #lowest value\n",
        "n = 20\n",
        "p = 0.01\n",
        "\n",
        "answer = stats.binom.cdf(k, n, p)\n",
        "\n",
        "print(answer) #it's less than so no reversing subtracting from 1"
      ],
      "execution_count": 11,
      "outputs": [
        {
          "output_type": "stream",
          "text": [
            "0.9989964238318999\n"
          ],
          "name": "stdout"
        }
      ]
    },
    {
      "cell_type": "code",
      "metadata": {
        "id": "0MM2W3_7NIB4",
        "colab_type": "code",
        "colab": {
          "base_uri": "https://localhost:8080/",
          "height": 34
        },
        "outputId": "0b6cd8d8-9390-44f6-800e-174e2dae01fc"
      },
      "source": [
        "# Import the required packages, \n",
        "# with their conventional names \n",
        "import matplotlib.pyplot as plt \n",
        "import numpy as np \n",
        "import scipy.stats as stats\n",
        "k = 5-1 #lowest value minus 1\n",
        "n = 20\n",
        "p = 0.01\n",
        "\n",
        "answer = stats.binom.cdf(k, n, p)\n",
        "\n",
        "print(1 - answer) #the rest of the values exluding the bottom"
      ],
      "execution_count": 12,
      "outputs": [
        {
          "output_type": "stream",
          "text": [
            "1.3677986329119207e-06\n"
          ],
          "name": "stdout"
        }
      ]
    },
    {
      "cell_type": "code",
      "metadata": {
        "id": "lXWRn66DNIB7",
        "colab_type": "code",
        "colab": {
          "base_uri": "https://localhost:8080/",
          "height": 34
        },
        "outputId": "6c77a7bf-188a-4fd1-dea6-3592740e5f6b"
      },
      "source": [
        "# Import the required packages, \n",
        "# with their conventional names \n",
        "import matplotlib.pyplot as plt \n",
        "import numpy as np \n",
        "import scipy.stats as stats\n",
        "k = 4\n",
        "n = 20\n",
        "p = 0.01\n",
        "\n",
        "answer1 = stats.binom.cdf(k, n, p)\n",
        "\n",
        "k = 1-1 #lowest value minus 1\n",
        "\n",
        "answer2 = stats.binom.cdf(k, n, p)\n",
        "print(answer1 - answer2)"
      ],
      "execution_count": 13,
      "outputs": [
        {
          "output_type": "stream",
          "text": [
            "0.18209169460413632\n"
          ],
          "name": "stdout"
        }
      ]
    },
    {
      "cell_type": "code",
      "metadata": {
        "id": "vfmVVGJ6NIB9",
        "colab_type": "code",
        "colab": {
          "base_uri": "https://localhost:8080/",
          "height": 34
        },
        "outputId": "4dce1922-b9e1-4a95-d36c-3972c2dbf3cd"
      },
      "source": [
        "# Import the required packages, \n",
        "# with their conventional names \n",
        "import matplotlib.pyplot as plt \n",
        "import numpy as np \n",
        "import scipy.stats as stats\n",
        "k = 0\n",
        "n = 20\n",
        "p = 0.01\n",
        "\n",
        "answer = stats.binom.pmf(k, n, p)\n",
        "\n",
        "print(answer)"
      ],
      "execution_count": 16,
      "outputs": [
        {
          "output_type": "stream",
          "text": [
            "0.8179069375972309\n"
          ],
          "name": "stdout"
        }
      ]
    },
    {
      "cell_type": "code",
      "metadata": {
        "id": "Bp7ie_qjNIB_",
        "colab_type": "code",
        "colab": {
          "base_uri": "https://localhost:8080/",
          "height": 51
        },
        "outputId": "2b988127-49ae-49af-de5d-b5e6cd6ee681"
      },
      "source": [
        "# Import the required packages, \n",
        "# with their conventional names \n",
        "import matplotlib.pyplot as plt \n",
        "import numpy as np \n",
        "import scipy.stats as stats\n",
        "n = 20\n",
        "p = 0.01\n",
        "\n",
        "expectedMu = n*p\n",
        "\n",
        "print(expectedMu)\n",
        "\n",
        "sigma = np.sqrt(n*p*(1-p))\n",
        "\n",
        "print(sigma)"
      ],
      "execution_count": 17,
      "outputs": [
        {
          "output_type": "stream",
          "text": [
            "0.2\n",
            "0.4449719092257398\n"
          ],
          "name": "stdout"
        }
      ]
    },
    {
      "cell_type": "code",
      "metadata": {
        "id": "zLGfJnDVNICB",
        "colab_type": "code",
        "colab": {}
      },
      "source": [
        ""
      ],
      "execution_count": null,
      "outputs": []
    },
    {
      "cell_type": "code",
      "metadata": {
        "id": "z15XpVBDNICD",
        "colab_type": "code",
        "colab": {}
      },
      "source": [
        ""
      ],
      "execution_count": null,
      "outputs": []
    },
    {
      "cell_type": "markdown",
      "metadata": {
        "id": "-MQhpkhBNICG",
        "colab_type": "text"
      },
      "source": [
        "# Question 6:\n",
        "\n",
        "An airport limousine can accommodate up to four passengers on any one trip. The company will accept a maximum of six reservations for a trip, and a passenger must have a reservation. From previous records, 40% of all those making reservations do not appear for the trip. Answer the following questions, assuming independence wherever appropriate.\n",
        "\n",
        "(a) If six reservations are made, what is the probability that at least one individual with a reservation cannot be accommodated on the trip?\n",
        "\n",
        "(b) If six reservations are made, what is the expected number of available places when the limousine departs?\n",
        "Your answer is incorrect.\n",
        "\n",
        "(c) Suppose the probability distribution of the number of reservations made is given in the accompanying table.\n",
        "\n",
        "Number of reservations    \t3      4\t 5\t   6\n",
        "\n",
        "Probability\t                0.09   0.24  0.33  0.34    \n",
        "\n",
        "Let X denote the number of passengers on a randomly selected trip. Obtain the probability mass function of X."
      ]
    },
    {
      "cell_type": "code",
      "metadata": {
        "id": "wHHSozRXNICH",
        "colab_type": "code",
        "colab": {}
      },
      "source": [
        ""
      ],
      "execution_count": null,
      "outputs": []
    },
    {
      "cell_type": "code",
      "metadata": {
        "id": "eTl7wKknNICJ",
        "colab_type": "code",
        "colab": {}
      },
      "source": [
        ""
      ],
      "execution_count": null,
      "outputs": []
    },
    {
      "cell_type": "code",
      "metadata": {
        "id": "0j5QHzWBNICL",
        "colab_type": "code",
        "colab": {}
      },
      "source": [
        "\n",
        "        "
      ],
      "execution_count": null,
      "outputs": []
    },
    {
      "cell_type": "code",
      "metadata": {
        "id": "su-E2bqJNICO",
        "colab_type": "code",
        "colab": {}
      },
      "source": [
        ""
      ],
      "execution_count": null,
      "outputs": []
    },
    {
      "cell_type": "markdown",
      "metadata": {
        "id": "9aQ6fOhDNICP",
        "colab_type": "text"
      },
      "source": [
        "# Question 7:\n",
        "\n",
        "Let X, the number of flaws on the surface of a randomly selected boiler of a certain type, have a Poisson distribution with parameter λ = 3. Compute the following probabilities.\n",
        "\n",
        "(a) P(X ≤ 8)\n",
        "\n",
        "(b) P(X = 8)\n",
        "\n",
        "(c) P(9 ≤ X)\n",
        "\n",
        "(d) P(5 ≤ X ≤ 8)\n",
        "\n",
        "(e) P(5 < X < 8)"
      ]
    },
    {
      "cell_type": "code",
      "metadata": {
        "id": "rPF43f3XNICQ",
        "colab_type": "code",
        "colab": {}
      },
      "source": [
        ""
      ],
      "execution_count": null,
      "outputs": []
    },
    {
      "cell_type": "code",
      "metadata": {
        "id": "cuK1KKucNICR",
        "colab_type": "code",
        "colab": {}
      },
      "source": [
        ""
      ],
      "execution_count": null,
      "outputs": []
    },
    {
      "cell_type": "markdown",
      "metadata": {
        "id": "SxVbjlGZNICU",
        "colab_type": "text"
      },
      "source": [
        "# Question 8\n",
        "\n",
        "Consider writing onto a computer disk and then sending it through a certifier that counts the number of missing pulses. Suppose this number X has a Poisson distribution with parameter λ = 0.19.\n",
        "\n",
        "(a) What is the probability that a disk has exactly one missing pulse?\n",
        "\n",
        "(b) What is the probability that a disk has at least two missing pulses?\n",
        "\n",
        "(c) If two disks are independently selected, what is the probability that neither contains a missing pulse?"
      ]
    },
    {
      "cell_type": "code",
      "metadata": {
        "id": "5mrmy8XpNICU",
        "colab_type": "code",
        "colab": {}
      },
      "source": [
        ""
      ],
      "execution_count": null,
      "outputs": []
    },
    {
      "cell_type": "code",
      "metadata": {
        "id": "Oh2TEf92NICb",
        "colab_type": "code",
        "colab": {}
      },
      "source": [
        ""
      ],
      "execution_count": null,
      "outputs": []
    },
    {
      "cell_type": "markdown",
      "metadata": {
        "id": "DWZMO1duNICc",
        "colab_type": "text"
      },
      "source": [
        "# Question 9\n",
        "\n",
        "In proof testing of circuit boards, the probability that any particular diode will fail is 0.01. Suppose a circuit board contains 150 diodes.\n",
        "\n",
        "(a) How many diodes would you expect to fail?\n",
        "\n",
        "What is the standard deviation of the number that are expected to fail?\n",
        "\n",
        "(b) What is the (approximate) probability that at least four diodes will fail on a randomly selected board? (Use binomial approximation.)\n",
        "\n",
        "(c) If five boards are shipped to a particular customer, how likely is it that at least four of them will work properly? (A board works properly only if all its diodes work.)"
      ]
    },
    {
      "cell_type": "code",
      "metadata": {
        "id": "Lz0NEX7CNICd",
        "colab_type": "code",
        "colab": {}
      },
      "source": [
        ""
      ],
      "execution_count": null,
      "outputs": []
    },
    {
      "cell_type": "code",
      "metadata": {
        "id": "rRULnYQKNICe",
        "colab_type": "code",
        "colab": {}
      },
      "source": [
        ""
      ],
      "execution_count": null,
      "outputs": []
    },
    {
      "cell_type": "code",
      "metadata": {
        "id": "593rBZFINICg",
        "colab_type": "code",
        "colab": {}
      },
      "source": [
        ""
      ],
      "execution_count": null,
      "outputs": []
    },
    {
      "cell_type": "code",
      "metadata": {
        "id": "Oq4_qIk-NICi",
        "colab_type": "code",
        "colab": {}
      },
      "source": [
        ""
      ],
      "execution_count": null,
      "outputs": []
    },
    {
      "cell_type": "code",
      "metadata": {
        "id": "lO7d1alDNICl",
        "colab_type": "code",
        "colab": {}
      },
      "source": [
        ""
      ],
      "execution_count": null,
      "outputs": []
    },
    {
      "cell_type": "code",
      "metadata": {
        "id": "zSCl4XFeNICn",
        "colab_type": "code",
        "colab": {}
      },
      "source": [
        ""
      ],
      "execution_count": null,
      "outputs": []
    },
    {
      "cell_type": "code",
      "metadata": {
        "id": "yIGTn8bDNICq",
        "colab_type": "code",
        "colab": {}
      },
      "source": [
        ""
      ],
      "execution_count": null,
      "outputs": []
    }
  ]
}